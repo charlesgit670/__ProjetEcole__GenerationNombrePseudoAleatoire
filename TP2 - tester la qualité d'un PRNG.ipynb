{
 "cells": [
  {
   "cell_type": "markdown",
   "source": [
    "# TP 2 - Comment tester un générateur pseudo aléatoire\n",
    "Lors de ce TP vous allez implémenter les 3 tests d'uniformité et 2 tests d'indépendance suivants:\n",
    "- Uniformité :\n",
    "    - Test du Chi2\n",
    "    - Test de Kolmogorov Smirnov\n",
    "    - Test de fréquence monobit\n",
    "- Indépendance :\n",
    "    - Test des paires en série\n",
    "    - Test spectral avec DFT (transformée de Fourrier discrète)\n",
    "\n",
    "Mais aussi le protocol de test vu en cours afin d'avoir une estimation sur la réussite d'un test.\n",
    "\n",
    "Pour se faire, vous allez devoir implémenter le code manquant signaler par le commentaire \"# votre code\""
   ],
   "metadata": {
    "collapsed": false
   }
  },
  {
   "cell_type": "markdown",
   "source": [
    "## On réutilise le code qui implémente les 3 PRNG du TP 1\n",
    "- LCG\n",
    "- Blum Blum Shub\n",
    "- Mersenne Twister MT19937\n",
    "\n",
    "**Ne pas toucher cette partie !**\n"
   ],
   "metadata": {
    "collapsed": false
   }
  },
  {
   "cell_type": "code",
   "execution_count": 2,
   "outputs": [],
   "source": [
    "# LCG\n",
    "class LinearCongruentialGenerator:\n",
    "    def __init__(self, is_bit=False, seed=1, a=1664525, c=1013904223, m=2**32):\n",
    "        self.is_bit = is_bit\n",
    "        self.state = int(seed)\n",
    "        self.a = a\n",
    "        self.c = c\n",
    "        self.m = m\n",
    "\n",
    "    def next(self):\n",
    "        self.state = (self.a * self.state + self.c) % self.m\n",
    "        if self.is_bit:\n",
    "            return (self.state >> 31) & 1\n",
    "        else:\n",
    "            return self.state / (self.m - 1)"
   ],
   "metadata": {
    "collapsed": false
   }
  },
  {
   "cell_type": "code",
   "execution_count": 3,
   "outputs": [],
   "source": [
    "# Blum Blum Shub\n",
    "class BlumBlumShub:\n",
    "    def __init__(self, is_bit=False, p=30000000091, q=40000000003, seed=1):\n",
    "        self.is_bit = is_bit\n",
    "        self.state = int(seed)\n",
    "        self.m = p * q\n",
    "\n",
    "    def next(self):\n",
    "        self.state = (self.state ** 2) % self.m\n",
    "        if self.is_bit:\n",
    "            return self.state & 1\n",
    "        else:\n",
    "            return self.state / (self.m - 1)"
   ],
   "metadata": {
    "collapsed": false
   }
  },
  {
   "cell_type": "code",
   "execution_count": 4,
   "outputs": [],
   "source": [
    "# Mersenne Twister MT19937\n",
    "class MersenneTwister():\n",
    "    def __init__(self, is_bit=False, seed=5489):\n",
    "        self.is_bit = is_bit\n",
    "        self.state = [0]*624\n",
    "        self.f = 1812433253\n",
    "        self.m = 397\n",
    "        self.u = 11\n",
    "        self.s = 7\n",
    "        self.b = 0x9D2C5680\n",
    "        self.t = 15\n",
    "        self.c = 0xEFC60000\n",
    "        self.l = 18\n",
    "        self.index = 624\n",
    "        self.lower_mask = (1<<31)-1\n",
    "        self.upper_mask = 1<<31\n",
    "\n",
    "        self.state[0] = int(seed)\n",
    "        for i in range(1,624):\n",
    "            self.state[i] = self.int_32(self.f*(self.state[i-1]^(self.state[i-1]>>30)) + i)\n",
    "\n",
    "    def twist(self):\n",
    "        for i in range(624):\n",
    "            temp = self.int_32((self.state[i]&self.upper_mask)+(self.state[(i+1)%624]&self.lower_mask))\n",
    "            temp_shift = temp>>1\n",
    "            if temp%2 != 0:\n",
    "                temp_shift = temp_shift^0x9908b0df\n",
    "            self.state[i] = self.state[(i+self.m)%624]^temp_shift\n",
    "        self.index = 0\n",
    "\n",
    "    def next(self):\n",
    "        if self.index >= 624:\n",
    "            self.twist()\n",
    "        y = self.state[self.index]\n",
    "        y = y^(y>>self.u)\n",
    "        y = y^((y<<self.s)&self.b)\n",
    "        y = y^((y<<self.t)&self.c)\n",
    "        y = y^(y>>self.l)\n",
    "        self.index+=1\n",
    "        if self.is_bit:\n",
    "            return self.int_32(y) & 1\n",
    "        else:\n",
    "            return self.int_32(y) / 0xFFFFFFFF\n",
    "\n",
    "    def int_32(self, number):\n",
    "        return int(0xFFFFFFFF & number)"
   ],
   "metadata": {
    "collapsed": false
   }
  },
  {
   "cell_type": "markdown",
   "source": [
    "## Le test d'uniformité Chi2\n",
    "\n",
    "On veut tester si les nombres générés par notre PRNG sont uniformément répartis.\n",
    "Pour se faire on va comparer les valeurs obtenues par rapport aux valeurs attendus théorique.\n",
    "\n",
    "**Fonctionnement du test**\n",
    "- Répartir les nombres générés en 10 groupes de valeurs entre 0-0.1, 0.1-0.2,... et 0.9-1\n",
    "- Calculer le nombre d'élement attendu dans chaque groupe dans le cas d'une distribution uniforme\n",
    "- Calculer la statistique $Q = Σ((O_i - E_i)^2 / E_i)$ avec $O_i$ le nombre d'observation et $E_i$ le nombre attendu\n",
    "- Récupérer la valeur de la p value correspondante pour $\\alpha=0.01$ et un degré de liberté de 9 (10 groupes - 1)\n",
    "- Le test est réussi si la p value obtenue est supérieur à la valeur du seuil critique\n"
   ],
   "metadata": {
    "collapsed": false
   }
  },
  {
   "cell_type": "code",
   "execution_count": 5,
   "outputs": [],
   "source": [
    "# librairie utile\n",
    "import numpy as np\n",
    "from scipy.stats import chi2, kstwobign\n",
    "from scipy.special import erfc"
   ],
   "metadata": {
    "collapsed": false
   }
  },
  {
   "cell_type": "code",
   "execution_count": 6,
   "outputs": [],
   "source": [
    "def chi2_test(observed_data, num_classes=10, alpha=0.01):\n",
    "    n = len(observed_data)\n",
    "    #votre code\n",
    "    # Calcul de la statistique Q\n",
    "    Q = ...\n",
    "\n",
    "    # Degré de liberté (nombre de classes - 1)\n",
    "    df = ...\n",
    "\n",
    "    # p-value\n",
    "    p_value = ...\n",
    "\n",
    "    return p_value, alpha < p_value"
   ],
   "metadata": {
    "collapsed": false
   }
  },
  {
   "cell_type": "code",
   "execution_count": 21,
   "outputs": [
    {
     "name": "stdout",
     "output_type": "stream",
     "text": [
      "Test successful !!!\n"
     ]
    }
   ],
   "source": [
    "# Exécuter cette cellule afin de vérifier que l'implémentation est correct\n",
    "np.random.seed(42)\n",
    "test_list = np.random.random(1000)\n",
    "p_value, is_success = chi2_test(test_list)\n",
    "assert 0.35048521232336105 == p_value\n",
    "assert True == is_success\n",
    "print(\"Test successful !!!\")"
   ],
   "metadata": {
    "collapsed": false
   }
  },
  {
   "cell_type": "markdown",
   "source": [
    "**Question**\n",
    "\n",
    "1. Que représente la p value obtenue dans notre test?\n",
    "2. Quel rôle joue la valeur du seuil $\\alpha$ ? si on l'augmente ou diminue\n",
    "3. Quel est le problème majeur si on veut pouvoir avoir un test le plus fiable possible ?"
   ],
   "metadata": {
    "collapsed": false
   }
  },
  {
   "cell_type": "markdown",
   "source": [
    "# Protocol de test\n",
    "\n",
    "On a vu que le résultat d'un test statistique n'est pas suffisant pour conclure sur l'uniformité ou l'indépendance du PRNG. En effet, si l'on répète le test plusieurs fois avec des nombres aléatoires générés différents. Certains échoueront au test même si le PRNG génère bien des nombres uniformement répartis et indépendant entre eux.\n",
    "Pour résoudre se problème on va pouvoir utiliser la loi des grands nombres car on a la possibilité de générér à volonté des nombres aléatoires.\n",
    "On sait que pour une distribution parfaitement uniforme, on a une probabilité égale à alpha d'échouer au test. C'est à dire que si l'on répète une infinité de fois ce test statistique, la fréquence d'échec sera de alpha.\n",
    "On ne peut pas générer une infinité de donnée, on va donc déterminer un interval de confiance grâce à la loi binomiale car notre test ne peut prendre que deux valeurs, il réussi ou échoue le test. L'interval de confiance à 99.7% pour une loi binomiale est donnée par:\n",
    "$\\[ \\hat{p} \\pm 3 \\sqrt{\\frac{\\hat{p}(1 - \\hat{p})}{m}} \\]$\n",
    "avec $m$ le nombre de test effectué et $\\hat{p}$ la probabilité de réussir le test\n",
    "\n",
    "Implémenter le protocol de test qui prendra en entrée le PRNG, le test a effectué, $m$ le nombre de test a effectué et $n$ la taille de la séquence générée.\n",
    "\n"
   ],
   "metadata": {
    "collapsed": false
   }
  },
  {
   "cell_type": "code",
   "execution_count": 66,
   "outputs": [],
   "source": [
    "from datetime import datetime\n",
    "from tqdm import tqdm\n",
    "\n",
    "def proportion_of_sequences_passing_a_test(PRNG, test, alpha, m, n):\n",
    "    # votre code\n",
    "\n",
    "    # borne inférieur de l'interval de confiance\n",
    "    min_seuil = ...\n",
    "    # boolean\n",
    "    test_succeded = ...\n",
    "    #-------------------\n",
    "    print(test.__name__)\n",
    "    print(f\"Proportion of success {round(proporsion_of_success,4)} has to be highter than {round(min_seuil, 4)}\")\n",
    "    print(f\"Test is {test_succeded}\")\n",
    "    return proporsion_of_success, test_succeded"
   ],
   "metadata": {
    "collapsed": false
   }
  },
  {
   "cell_type": "code",
   "execution_count": 9,
   "outputs": [
    {
     "name": "stderr",
     "output_type": "stream",
     "text": [
      "100%|██████████| 1000/1000 [00:00<00:00, 2888.33it/s]"
     ]
    },
    {
     "name": "stdout",
     "output_type": "stream",
     "text": [
      "Proportion of success 0.99 has to be highter than 0.9806\n",
      "Test is True\n",
      "Test successful !!!\n"
     ]
    },
    {
     "name": "stderr",
     "output_type": "stream",
     "text": [
      "\n"
     ]
    }
   ],
   "source": [
    "# Exécuter cette cellule afin de vérifier que l'implémentation est correct\n",
    "PRNG_test = LinearCongruentialGenerator(seed=42)\n",
    "proporsion_of_success, is_success = proportion_of_sequences_passing_a_test(PRNG_test, chi2_test, 0.01, 1000, 1000)\n",
    "assert 0.99 == proporsion_of_success\n",
    "assert True == is_success\n",
    "print(\"Test successful !!!\")"
   ],
   "metadata": {
    "collapsed": false
   }
  },
  {
   "cell_type": "markdown",
   "source": [
    "**Maintenant que le protocol de test est implémenté et que l'on a vu le principe d'un test statistique, on va pouvoir passer en revu tous les autres tests**"
   ],
   "metadata": {
    "collapsed": false
   }
  },
  {
   "cell_type": "markdown",
   "source": [
    "## le test de Kolmogorov Smirnov\n",
    "\n",
    "Il permet de comparer deux distributions entre elles ou une distribution à une distribution théorique.\n",
    "Dans notre cas on va comparer la distribution des valeurs générées par notre PRNG à une distribution uniforme.\n",
    "\n",
    "Pour se faire, on va calculer la différence la plus grande entre les valeurs observés et théorique de la manière suivante:\n",
    "1. Trier en ordre croissant la série de nombre aléatoire générée par le PRNG de taille $n$ entre 0 et 1 noté $F_{o}$\n",
    "2. Créer la série de nombre répartie uniformément $F_{e+} = \\frac{j}{n}$ et $F_{e-} = \\frac{j - 1}{n}$\n",
    "3. Calculer la différence maximale pour $K^{+} = max(\\frac{j}{n} - x_{j})$ et $K^{-} = max(x_{j} - \\frac{j - 1}{n})$\n",
    "4. Récupérer la valeur la plus grande entre $K^{+}$ et $K^{-}$ puis la multiplier par $\\sqrt{n}$\n",
    "5. Utiliser la fonction de Kolmogorov Smirnov avec la méthode importée \"kstwobign\" pour récupérer la p value associé\n",
    "6. Le test est réussi si p value > alpha\n",
    "\n"
   ],
   "metadata": {
    "collapsed": false
   }
  },
  {
   "cell_type": "code",
   "execution_count": 13,
   "outputs": [],
   "source": [
    "def kolmogorov_smirnov_test(observed_data, alpha=0.01):\n",
    "    # Taille de l'échantillon\n",
    "    n = len(observed_data)\n",
    "\n",
    "    # votre code\n",
    "\n",
    "    # Calculate max(i/N-Ri)\n",
    "    K_plus_max = ...\n",
    "\n",
    "    # Calculate max(Ri-((i-1)/N))\n",
    "    K_minus_max = ...\n",
    "\n",
    "    # Calculate KS Statistic\n",
    "    K_max = ...\n",
    "\n",
    "    # p-value\n",
    "    p_value = ...\n",
    "\n",
    "    return p_value, alpha < p_value"
   ],
   "metadata": {
    "collapsed": false
   }
  },
  {
   "cell_type": "code",
   "execution_count": 14,
   "outputs": [
    {
     "name": "stdout",
     "output_type": "stream",
     "text": [
      "Test successful !!!\n"
     ]
    }
   ],
   "source": [
    "# Exécuter cette cellule afin de vérifier que l'implémentation est correct\n",
    "p_value, is_success = kolmogorov_smirnov_test(test_list)\n",
    "assert 0.3308120069339089 == p_value\n",
    "assert True == is_success\n",
    "print(\"Test successful !!!\")"
   ],
   "metadata": {
    "collapsed": false
   }
  },
  {
   "cell_type": "markdown",
   "source": [
    "## Test de fréquence monobit\n",
    "\n",
    "Ce test se base cette fois ci sur la sortie binaire de notre PRNG.\n",
    "On veut s'assurer que la proportion de 0 est équivalente à la proprotion de 1.\n",
    "Pour se faire, on veut calculer la différence entre le nombre de 0 et 1 et utiliser la fonction erreur pour calculer la p value.\n",
    "1. Une manière de calculer la différence est de transformer les 0 en -1 et de sommer le tout noté $S_{n}$\n",
    "2. On calcule la valeur statistique $s_{obs} = \\frac{|{S_{n}|}}{\\sqrt{n}}$\n",
    "3. Finalement on obtient $p_{value} = erfc(\\frac{s_{obs}}{\\sqrt{2}})$ avec $erfc()$ la fonction erreur, méthode importée \"erfc\"\n",
    "4. Le test est réussi si p value > alpha\n"
   ],
   "metadata": {
    "collapsed": false
   }
  },
  {
   "cell_type": "code",
   "execution_count": 15,
   "outputs": [],
   "source": [
    "def frequency_monobit_test(observed_data, alpha=0.01):\n",
    "    n = len(observed_data)\n",
    "    # votre code\n",
    "    p_value = ...\n",
    "    return p_value, alpha < p_value"
   ],
   "metadata": {
    "collapsed": false
   }
  },
  {
   "cell_type": "code",
   "execution_count": 45,
   "outputs": [
    {
     "name": "stdout",
     "output_type": "stream",
     "text": [
      "Test successful !!!\n"
     ]
    }
   ],
   "source": [
    "# Exécuter cette cellule afin de vérifier que l'implémentation est correct\n",
    "np.random.seed(42)\n",
    "test_list_binary = np.random.randint(2, size=1000)\n",
    "p_value, is_success = frequency_monobit_test(test_list_binary)\n",
    "assert 0.5270892568655381 == p_value\n",
    "assert True == is_success\n",
    "print(\"Test successful !!!\")"
   ],
   "metadata": {
    "collapsed": false
   }
  },
  {
   "cell_type": "markdown",
   "source": [
    "**On va voir maintenant les tests d'indépendances qui permettre de montrer qu'il n'existe pas de relation entre les nombres aléatoires générés**"
   ],
   "metadata": {
    "collapsed": false
   }
  },
  {
   "cell_type": "markdown",
   "source": [
    "## Test des paires en série\n",
    "\n",
    "L’objectif du test est de former des paires de deux nombres aléatoires ex : x1, x2, x3 et x4 => (x1, x2), (x3, x4).\n",
    "Un peu à la manière du test d’uniformité du Chi2, on va découper un espace 2D en k*k boites et on va compter le nombre de paire dans chacune d’entre elles.\n",
    "Ensuite on effectue le test du Chi2 en comparant l’observation à l’attendu. Le nombre de paire attendu est donnée par $n/(2k^2)$.\n",
    "\n",
    "On peut se convaincre que c'est bien un test d'indépendance en testant une suite uniformement croissant entre 0 et 1 qui passerait les tests d'uniformités.\n",
    "En effet tous nos points formeraient une droite et laisseraient des boites complétements vides."
   ],
   "metadata": {
    "collapsed": false
   }
  },
  {
   "cell_type": "code",
   "execution_count": 32,
   "outputs": [],
   "source": [
    "def series_pair_test(observed_data, num_classes=10, alpha=0.01):\n",
    "    # Générer des paires consécutives\n",
    "    pairs = [(observed_data[i], observed_data[i + 1]) for i in range(0, len(observed_data) - 1, 2)]\n",
    "\n",
    "    boxes = np.zeros((num_classes, num_classes))\n",
    "\n",
    "    # Remplir les boîtes avec les occurrences observées\n",
    "    for pair in pairs:\n",
    "        box_x = int(pair[0] * num_classes)\n",
    "        box_y = int(pair[1] * num_classes)\n",
    "        boxes[box_x, box_y] += 1\n",
    "\n",
    "    # Calculer les attentes théoriques si les nombres étaient complètement indépendants\n",
    "    n = len(observed_data)\n",
    "    expected_counts = (n / (2*num_classes**2)) * np.ones((num_classes, num_classes))\n",
    "\n",
    "    # Calculer la statistique de test (chi carré)\n",
    "    chi_squared_statistic = np.sum((boxes - expected_counts)**2 / expected_counts)\n",
    "\n",
    "    # Déterminer le degré de liberté\n",
    "    df = num_classes**2 - 1\n",
    "\n",
    "    # p-value\n",
    "    p_value = 1 - chi2.cdf(chi_squared_statistic, df)\n",
    "\n",
    "    return p_value, alpha < p_value"
   ],
   "metadata": {
    "collapsed": false
   }
  },
  {
   "cell_type": "code",
   "execution_count": 42,
   "outputs": [
    {
     "name": "stdout",
     "output_type": "stream",
     "text": [
      "Test successful !!!\n"
     ]
    }
   ],
   "source": [
    "# Exécuter cette cellule afin de vérifier que l'implémentation est correct\n",
    "p_value, is_success = series_pair_test(test_list)\n",
    "assert 0.49812574145151856 == p_value\n",
    "assert True == is_success\n",
    "print(\"Test successful !!!\")"
   ],
   "metadata": {
    "collapsed": false
   }
  },
  {
   "cell_type": "markdown",
   "source": [
    "## Test spectral avec DFT (transformée de Fourrier discrète)\n",
    "\n",
    "Le principe de ce test est d'utilisé la suite de bits aléatoire comme un signal composé de plusieurs fréquences.\n",
    "En effet, notre suite de bits aléatoire aura des séries de 1 et 0 de longueur différente.\n",
    "Si notre PRNG est bien aléatoire, alors il y a autant de chance d'obtenir un 0 que un 1 pour chaque élement de la suite générée\n",
    "et toutes les fréquences devraient être représentées avec une amplitude similaire.\n",
    "\n",
    "Pour se faire on va exécuter les étapes suivantes :\n",
    "1. Convertir les 0 de la suite en -1 afin d'avoir un signal centré en 0\n",
    "2. Effectuer la tranformé de fourrier de la suite en utilisant la méthode \"np.fft.fft()\" et calculer l'amplitude (récupérer que la première partie car la deuxième est symétrique).\n",
    "3. Calcul de la valeur d'amplitude que seulement 5% des fréquences devraient dépasser sous l'hypothèse d'une suite aléatoire $T = \\sqrt{(log\\frac{1}{0.05})n}$\n",
    "4. On calcule $N_{0}$ qui représente 95% des fréquences donc, $N_{0} = 0.95*\\frac{n}{2}$\n",
    "5. On calcule $N_{1}$ le nombre de fréquence inférieur à $T$\n",
    "6. On calcule la valeur statistique $d = \\frac{(N_{1} - N_{0})}{\\sqrt{n(0.95)(0.05)/4}}$\n",
    "7. Pour finir on récupère la p value à l'aide de la fonction erreur $erfc(\\frac{|d|}{\\sqrt{2}})$\n",
    "\n",
    "\n",
    "\n"
   ],
   "metadata": {
    "collapsed": false
   }
  },
  {
   "cell_type": "code",
   "execution_count": 56,
   "outputs": [],
   "source": [
    "import matplotlib.pyplot as plt\n",
    "\n",
    "def spectral_DFT_test(observed_data, alpha=0.01, plot=False):\n",
    "    # length of sequence\n",
    "    n = len(observed_data)\n",
    "    # votre code\n",
    "    # transform 0 to -1\n",
    "    observed_data = [2*o - 1 for o in observed_data]\n",
    "\n",
    "    # calcul T\n",
    "    T = np.sqrt(n*np.log(1/0.05))\n",
    "\n",
    "    # calcul N0\n",
    "    N0 = 0.95*n/2\n",
    "\n",
    "    # Calcul FFT amplitude frequencies\n",
    "    fft_result = np.fft.fft(observed_data)[:n//2]\n",
    "    magnitude = np.abs(fft_result)\n",
    "\n",
    "    #calcul N1\n",
    "    N1 = sum(magnitude < T)\n",
    "\n",
    "    # Calcul d\n",
    "    d = (N1 - N0)/(np.sqrt(0.95*0.05*n/4))\n",
    "\n",
    "    # calcul p-value\n",
    "    p_value = erfc(abs(d)/np.sqrt(2))\n",
    "\n",
    "    if plot:\n",
    "        # Tracer le spectre\n",
    "        plt.figure(figsize=(10, 6))\n",
    "        plt.plot(magnitude, label='Spectral Magnitude')\n",
    "        plt.axhline(y=T, color='r', linestyle='--', label=f'Threshold at {round(T, 2)}')\n",
    "        plt.title('Discrete Fourier Transform Test')\n",
    "        plt.xlabel('Frequency')\n",
    "        plt.ylabel('Magnitude')\n",
    "        plt.legend()\n",
    "        plt.show()\n",
    "\n",
    "    return p_value, alpha < p_value"
   ],
   "metadata": {
    "collapsed": false
   }
  },
  {
   "cell_type": "code",
   "execution_count": 58,
   "outputs": [
    {
     "name": "stdout",
     "output_type": "stream",
     "text": [
      "0.7716705035436164\n",
      "Test successful !!!\n"
     ]
    }
   ],
   "source": [
    "# Exécuter cette cellule afin de vérifier que l'implémentation est correct\n",
    "p_value, is_success = spectral_DFT_test(test_list_binary)\n",
    "assert 0.7716705035436164 == p_value\n",
    "assert True == is_success\n",
    "print(\"Test successful !!!\")"
   ],
   "metadata": {
    "collapsed": false
   }
  },
  {
   "cell_type": "code",
   "execution_count": 60,
   "outputs": [
    {
     "data": {
      "text/plain": "<Figure size 1000x600 with 1 Axes>",
      "image/png": "[encoded data removed]"
     },
     "metadata": {},
     "output_type": "display_data"
    },
    {
     "data": {
      "text/plain": "(0.7716705035436164, True)"
     },
     "execution_count": 60,
     "metadata": {},
     "output_type": "execute_result"
    }
   ],
   "source": [
    "# On plot la transformé de fourrier de la suite avec le seuil des 95%\n",
    "spectral_DFT_test(test_list_binary, plot=True)"
   ],
   "metadata": {
    "collapsed": false
   }
  },
  {
   "cell_type": "markdown",
   "source": [
    "**Question**\n",
    "justifier pourquoi le test à réussi à l'aide de la visualisation graphique\n",
    "\n",
    "**Correction**\n",
    "On observe bien une distribution uniforme des fréquences. On a pas d'amplitude plus elevé pour une tranche de fréquence particulière.\n",
    "De plus, seulement quelques fréquences dépasse l'amplitude seuil fixée (on s'attend à en avoir environ 5% donc 25 ici)"
   ],
   "metadata": {
    "collapsed": false
   }
  },
  {
   "cell_type": "markdown",
   "source": [
    "## Exécutons tous nos test en utilisant le protocol de test sur nos 3 PRNG"
   ],
   "metadata": {
    "collapsed": false
   }
  },
  {
   "cell_type": "code",
   "execution_count": 74,
   "outputs": [],
   "source": [
    "LCG = LinearCongruentialGenerator(seed=42, is_bit=False)\n",
    "LCG_bits = LinearCongruentialGenerator(seed=42, is_bit=True)\n",
    "\n",
    "MT = MersenneTwister(seed=42, is_bit=False)\n",
    "MT_bits = MersenneTwister(seed=42, is_bit=True)\n",
    "\n",
    "BBS = BlumBlumShub(seed=42, is_bit=False)\n",
    "BBS_bits = BlumBlumShub(seed=42, is_bit=True)"
   ],
   "metadata": {
    "collapsed": false
   }
  },
  {
   "cell_type": "code",
   "execution_count": 75,
   "outputs": [
    {
     "name": "stdout",
     "output_type": "stream",
     "text": [
      "Test du LCG\n"
     ]
    },
    {
     "name": "stderr",
     "output_type": "stream",
     "text": [
      "100%|██████████| 1000/1000 [00:00<00:00, 2768.45it/s]\n"
     ]
    },
    {
     "name": "stdout",
     "output_type": "stream",
     "text": [
      "chi2_test\n",
      "Proportion of success 0.99 has to be highter than 0.9806\n",
      "Test is True\n"
     ]
    },
    {
     "name": "stderr",
     "output_type": "stream",
     "text": [
      "100%|██████████| 1000/1000 [00:00<00:00, 1890.68it/s]\n"
     ]
    },
    {
     "name": "stdout",
     "output_type": "stream",
     "text": [
      "kolmogorov_smirnov_test\n",
      "Proportion of success 0.985 has to be highter than 0.9806\n",
      "Test is True\n"
     ]
    },
    {
     "name": "stderr",
     "output_type": "stream",
     "text": [
      "100%|██████████| 1000/1000 [00:00<00:00, 3826.35it/s]\n"
     ]
    },
    {
     "name": "stdout",
     "output_type": "stream",
     "text": [
      "frequency_monobit_test\n",
      "Proportion of success 0.99 has to be highter than 0.9806\n",
      "Test is True\n"
     ]
    },
    {
     "name": "stderr",
     "output_type": "stream",
     "text": [
      "100%|██████████| 1000/1000 [00:00<00:00, 2444.75it/s]\n"
     ]
    },
    {
     "name": "stdout",
     "output_type": "stream",
     "text": [
      "series_pair_test\n",
      "Proportion of success 0.989 has to be highter than 0.9806\n",
      "Test is True\n"
     ]
    },
    {
     "name": "stderr",
     "output_type": "stream",
     "text": [
      "100%|██████████| 1000/1000 [00:00<00:00, 3068.32it/s]"
     ]
    },
    {
     "name": "stdout",
     "output_type": "stream",
     "text": [
      "spectral_DFT_test\n",
      "Proportion of success 0.987 has to be highter than 0.9806\n",
      "Test is True\n"
     ]
    },
    {
     "name": "stderr",
     "output_type": "stream",
     "text": [
      "\n"
     ]
    },
    {
     "data": {
      "text/plain": "(0.987, True)"
     },
     "execution_count": 75,
     "metadata": {},
     "output_type": "execute_result"
    }
   ],
   "source": [
    "print(\"Test du LCG\")\n",
    "proportion_of_sequences_passing_a_test(LCG, chi2_test, 0.01, 1000, 1000)\n",
    "proportion_of_sequences_passing_a_test(LCG, kolmogorov_smirnov_test, 0.01, 1000, 1000)\n",
    "proportion_of_sequences_passing_a_test(LCG_bits, frequency_monobit_test, 0.01, 1000, 1000)\n",
    "proportion_of_sequences_passing_a_test(LCG, series_pair_test, 0.01, 1000, 1000)\n",
    "proportion_of_sequences_passing_a_test(LCG_bits, spectral_DFT_test, 0.01, 1000, 1000)"
   ],
   "metadata": {
    "collapsed": false
   }
  },
  {
   "cell_type": "code",
   "execution_count": 76,
   "outputs": [
    {
     "name": "stdout",
     "output_type": "stream",
     "text": [
      "Test du MT\n"
     ]
    },
    {
     "name": "stderr",
     "output_type": "stream",
     "text": [
      "100%|██████████| 1000/1000 [00:00<00:00, 1117.45it/s]\n"
     ]
    },
    {
     "name": "stdout",
     "output_type": "stream",
     "text": [
      "chi2_test\n",
      "Proportion of success 0.99 has to be highter than 0.9806\n",
      "Test is True\n"
     ]
    },
    {
     "name": "stderr",
     "output_type": "stream",
     "text": [
      "100%|██████████| 1000/1000 [00:01<00:00, 940.88it/s]\n"
     ]
    },
    {
     "name": "stdout",
     "output_type": "stream",
     "text": [
      "kolmogorov_smirnov_test\n",
      "Proportion of success 0.99 has to be highter than 0.9806\n",
      "Test is True\n"
     ]
    },
    {
     "name": "stderr",
     "output_type": "stream",
     "text": [
      "100%|██████████| 1000/1000 [00:00<00:00, 1243.39it/s]\n"
     ]
    },
    {
     "name": "stdout",
     "output_type": "stream",
     "text": [
      "frequency_monobit_test\n",
      "Proportion of success 0.993 has to be highter than 0.9806\n",
      "Test is True\n"
     ]
    },
    {
     "name": "stderr",
     "output_type": "stream",
     "text": [
      "100%|██████████| 1000/1000 [00:00<00:00, 1049.33it/s]\n"
     ]
    },
    {
     "name": "stdout",
     "output_type": "stream",
     "text": [
      "series_pair_test\n",
      "Proportion of success 0.986 has to be highter than 0.9806\n",
      "Test is True\n"
     ]
    },
    {
     "name": "stderr",
     "output_type": "stream",
     "text": [
      "100%|██████████| 1000/1000 [00:00<00:00, 1159.62it/s]"
     ]
    },
    {
     "name": "stdout",
     "output_type": "stream",
     "text": [
      "spectral_DFT_test\n",
      "Proportion of success 0.991 has to be highter than 0.9806\n",
      "Test is True\n"
     ]
    },
    {
     "name": "stderr",
     "output_type": "stream",
     "text": [
      "\n"
     ]
    },
    {
     "data": {
      "text/plain": "(0.991, True)"
     },
     "execution_count": 76,
     "metadata": {},
     "output_type": "execute_result"
    }
   ],
   "source": [
    "print(\"Test du MT\")\n",
    "proportion_of_sequences_passing_a_test(MT, chi2_test, 0.01, 1000, 1000)\n",
    "proportion_of_sequences_passing_a_test(MT, kolmogorov_smirnov_test, 0.01, 1000, 1000)\n",
    "proportion_of_sequences_passing_a_test(MT_bits, frequency_monobit_test, 0.01, 1000, 1000)\n",
    "proportion_of_sequences_passing_a_test(MT, series_pair_test, 0.01, 1000, 1000)\n",
    "proportion_of_sequences_passing_a_test(MT_bits, spectral_DFT_test, 0.01, 1000, 1000)"
   ],
   "metadata": {
    "collapsed": false
   }
  },
  {
   "cell_type": "code",
   "execution_count": 77,
   "outputs": [
    {
     "name": "stdout",
     "output_type": "stream",
     "text": [
      "Test du BBS\n"
     ]
    },
    {
     "name": "stderr",
     "output_type": "stream",
     "text": [
      "100%|██████████| 1000/1000 [00:00<00:00, 1785.45it/s]\n"
     ]
    },
    {
     "name": "stdout",
     "output_type": "stream",
     "text": [
      "chi2_test\n",
      "Proportion of success 0.988 has to be highter than 0.9806\n",
      "Test is True\n"
     ]
    },
    {
     "name": "stderr",
     "output_type": "stream",
     "text": [
      "100%|██████████| 1000/1000 [00:00<00:00, 1396.36it/s]\n"
     ]
    },
    {
     "name": "stdout",
     "output_type": "stream",
     "text": [
      "kolmogorov_smirnov_test\n",
      "Proportion of success 0.992 has to be highter than 0.9806\n",
      "Test is True\n"
     ]
    },
    {
     "name": "stderr",
     "output_type": "stream",
     "text": [
      "100%|██████████| 1000/1000 [00:00<00:00, 2600.23it/s]\n"
     ]
    },
    {
     "name": "stdout",
     "output_type": "stream",
     "text": [
      "frequency_monobit_test\n",
      "Proportion of success 0.992 has to be highter than 0.9806\n",
      "Test is True\n"
     ]
    },
    {
     "name": "stderr",
     "output_type": "stream",
     "text": [
      "100%|██████████| 1000/1000 [00:00<00:00, 1643.09it/s]\n"
     ]
    },
    {
     "name": "stdout",
     "output_type": "stream",
     "text": [
      "series_pair_test\n",
      "Proportion of success 0.989 has to be highter than 0.9806\n",
      "Test is True\n"
     ]
    },
    {
     "name": "stderr",
     "output_type": "stream",
     "text": [
      "100%|██████████| 1000/1000 [00:00<00:00, 2251.28it/s]"
     ]
    },
    {
     "name": "stdout",
     "output_type": "stream",
     "text": [
      "spectral_DFT_test\n",
      "Proportion of success 0.98 has to be highter than 0.9806\n",
      "Test is False\n"
     ]
    },
    {
     "name": "stderr",
     "output_type": "stream",
     "text": [
      "\n"
     ]
    },
    {
     "data": {
      "text/plain": "(0.98, False)"
     },
     "execution_count": 77,
     "metadata": {},
     "output_type": "execute_result"
    }
   ],
   "source": [
    "print(\"Test du BBS\")\n",
    "proportion_of_sequences_passing_a_test(BBS, chi2_test, 0.01, 1000, 1000)\n",
    "proportion_of_sequences_passing_a_test(BBS, kolmogorov_smirnov_test, 0.01, 1000, 1000)\n",
    "proportion_of_sequences_passing_a_test(BBS_bits, frequency_monobit_test, 0.01, 1000, 1000)\n",
    "proportion_of_sequences_passing_a_test(BBS, series_pair_test, 0.01, 1000, 1000)\n",
    "proportion_of_sequences_passing_a_test(BBS_bits, spectral_DFT_test, 0.01, 1000, 1000)"
   ],
   "metadata": {
    "collapsed": false
   }
  },
  {
   "cell_type": "markdown",
   "source": [
    "## Conclusion\n",
    "Nos 3 PRNG ont passé les 5 tests statistiques à l'exception de BBS qui a échoué de très peu au test spectral.\n",
    "On ne peut donc pas conclure q'un PRNG est meilleur qu'un autre sur la qualité d'uniformité et d'indépendance.\n",
    "Il faudrait des tests plus poussé si l'on souhaite espérer montrer une différence sur ces deux points.\n",
    "\n",
    "Cependant le MT est grandement apprécié pour sa très grande période contrairement au LCG\n",
    "en plus d'avoir au moins la même qualité d'uniformité et d'indépendance d'après nos tests.\n",
    "BBS qu'en a lui est surtout utilisé dans un contexte ou la sécurité est de rigeur.\n"
   ],
   "metadata": {
    "collapsed": false
   }
  },
  {
   "cell_type": "code",
   "execution_count": null,
   "outputs": [],
   "source": [],
   "metadata": {
    "collapsed": false
   }
  }
 ],
 "metadata": {
  "kernelspec": {
   "display_name": "Python 3",
   "language": "python",
   "name": "python3"
  },
  "language_info": {
   "codemirror_mode": {
    "name": "ipython",
    "version": 2
   },
   "file_extension": ".py",
   "mimetype": "text/x-python",
   "name": "python",
   "nbconvert_exporter": "python",
   "pygments_lexer": "ipython2",
   "version": "2.7.6"
  }
 },
 "nbformat": 4,
 "nbformat_minor": 0
}
