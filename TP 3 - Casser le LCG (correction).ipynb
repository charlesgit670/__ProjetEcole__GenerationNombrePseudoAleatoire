{
 "cells": [
  {
   "cell_type": "markdown",
   "source": [
    "# TP 3 - Comment casser le LCG\n",
    "\n",
    "Pour ce dernier TP on va implémenter la solution algrébrique vu en cours pour déterminer les paramètres d'un LCG à partir de quelques nombres générés.\n",
    "\n",
    "On rappelle la relation de récurrence linéaire pour le LCG\n",
    "$X_{n} = a*X_{n-1} + b \\pmod{m}$\n",
    "\n",
    "On va calculer $Y_{n}$ et $Z_{n}$\n",
    "$Y_{n} = X_{n} - X_{n-1}$\n",
    "Et\n",
    "$Z_{n} = Y_{n}Y_{n+2} - Y_{n+1}^{2}$\n",
    "Avec un nombre de $Z_{n}$ suffisant on peut déterminer $m$ qui est le GCD, plus grand dénominateur commun de tous les $Z_{n}$\n",
    "\n",
    "A partir de la valeur du modulo $m$ on peut calculer $a$ et $b$ à partir des deux équations suivantes\n",
    "\n",
    "$\\begin{cases}\n",
    "    X_{1} = a*X_{0} + b \\pmod{m} \\\\\n",
    "    X_{2} = a*X_{1} + b \\pmod{m} \\\\\n",
    "\\end{cases}$\n",
    ",\n",
    "$a = \\frac{X_{2} - X_{1}}{X_{1} - X_{0}} \\pmod{m}$\n",
    ",\n",
    "$b = X_{1} - a*X_{0} \\pmod{m}$\n",
    "\n"
   ],
   "metadata": {
    "collapsed": false
   }
  },
  {
   "cell_type": "code",
   "execution_count": 38,
   "outputs": [],
   "source": [
    "# récupère notre LCG avec une sortie non modifiée\n",
    "class LinearCongruentialGenerator:\n",
    "    def __init__(self, is_bit=False, seed=1, a=1664525, c=1013904223, m=2**32):\n",
    "        self.is_bit = is_bit\n",
    "        self.state = int(seed)\n",
    "        self.a = a\n",
    "        self.c = c\n",
    "        self.m = m\n",
    "\n",
    "    def next(self):\n",
    "        self.state = (self.a * self.state + self.c) % self.m\n",
    "        return self.state"
   ],
   "metadata": {
    "collapsed": false
   }
  },
  {
   "cell_type": "markdown",
   "source": [
    "## Implémentation du modulo inverse\n",
    "On a besoin d'une implémentation du modulo inverse pour le calcule de $a$\n",
    "Pour se faire, on doit d'abord implémenter l'extension du gcd  $ax+by=gcd(a,b)$ qui détermine les valeurs x et y. On pourra utiliser ce [lien](https://brilliant.org/wiki/extended-euclidean-algorithm/) pour comprendre le mécanisme."
   ],
   "metadata": {
    "collapsed": false
   }
  },
  {
   "cell_type": "code",
   "execution_count": 16,
   "outputs": [],
   "source": [
    "def egcd(a, b):\n",
    "    # votre code\n",
    "    if a == 0:\n",
    "        return b, 0, 1\n",
    "    else:\n",
    "        g, y, x = egcd(b % a, a)\n",
    "        return g, x - (b // a) * y, y\n",
    "\n",
    "def modinv(a, m):\n",
    "    g, x, y = egcd(a, m)\n",
    "    if g != 1:\n",
    "        raise Exception('modular inverse does not exist')\n",
    "    else:\n",
    "        return x % m"
   ],
   "metadata": {
    "collapsed": false
   }
  },
  {
   "cell_type": "code",
   "execution_count": 17,
   "outputs": [
    {
     "name": "stdout",
     "output_type": "stream",
     "text": [
      "Test successful !!!\n"
     ]
    }
   ],
   "source": [
    "# Exécuter cette cellule afin de vérifier que l'implémentation est correct\n",
    "g_test, x_test, y_test = egcd(102, 38)\n",
    "assert g_test == 2\n",
    "assert x_test == 3\n",
    "assert y_test == -8\n",
    "print(\"Test successful !!!\")"
   ],
   "metadata": {
    "collapsed": false
   }
  },
  {
   "cell_type": "markdown",
   "source": [
    "## Implémentation du reste de la solution"
   ],
   "metadata": {
    "collapsed": false
   }
  },
  {
   "cell_type": "code",
   "execution_count": 45,
   "outputs": [],
   "source": [
    "from math import gcd\n",
    "\n",
    "\n",
    "def solve(Xn):\n",
    "\n",
    "    # votre code\n",
    "    # Calcul Yn\n",
    "    Yn = [X1 - X0 for X0, X1 in zip(Xn, Xn[1:])]\n",
    "    # Calcul Zn\n",
    "    Zn = [Y2*Y0 - Y1*Y1 for Y0, Y1, Y2 in zip(Yn, Yn[1:], Yn[2:])]\n",
    "\n",
    "    # Trouver le gcd de Zn pour avoir le modulo m\n",
    "    m = Zn[0]\n",
    "    for x in Zn[1:]:\n",
    "        m = gcd(m, x)\n",
    "\n",
    "    # Calculer a et b, astuce : ajouter m a Yn afin de s'assurer d'avoir une valeur négative avant d'effectuer le modulo inverse sans changer le résultat\n",
    "    # Ce n'est pas necessaire pour le modulo % car les cas négatifs sont déjà pris en compte par python\n",
    "    a = Yn[1] * modinv(Yn[0] + m, m) % m\n",
    "    b = (Xn[1] - a * Xn[0]) % m\n",
    "\n",
    "    print(f\"Les valeurs des paramètres trouvés sont: \\n a = {a}, b = {b} et m = {m}\")\n",
    "    return a, b, m"
   ],
   "metadata": {
    "collapsed": false
   }
  },
  {
   "cell_type": "code",
   "execution_count": 50,
   "outputs": [
    {
     "name": "stdout",
     "output_type": "stream",
     "text": [
      "Les valeurs des paramètres trouvés sont: \n",
      " a = 1664525, b = 1013904223 et m = 4294967296\n",
      "Test successful !!!\n"
     ]
    }
   ],
   "source": [
    "# Exécuter cette cellule afin de vérifier que l'implémentation est correct\n",
    "LCG = LinearCongruentialGenerator(seed=42)\n",
    "Xn = []\n",
    "for i in range(5):\n",
    "    Xn.append(LCG.next())\n",
    "\n",
    "a, b, m = solve(Xn)\n",
    "assert a == 1664525\n",
    "assert b == 1013904223\n",
    "assert m == 2**32\n",
    "print(\"Test successful !!!\")"
   ],
   "metadata": {
    "collapsed": false
   }
  },
  {
   "cell_type": "markdown",
   "source": [
    "**On a réussi à retrouver les paramètres de notre LCG !!!\n",
    " Avec seulement 5 valeurs qui est le nombre minimal pour avoir au moins 2 valeurs de** $Z_{n}$"
   ],
   "metadata": {
    "collapsed": false
   }
  },
  {
   "cell_type": "code",
   "execution_count": null,
   "outputs": [],
   "source": [],
   "metadata": {
    "collapsed": false
   }
  }
 ],
 "metadata": {
  "kernelspec": {
   "display_name": "Python 3",
   "language": "python",
   "name": "python3"
  },
  "language_info": {
   "codemirror_mode": {
    "name": "ipython",
    "version": 2
   },
   "file_extension": ".py",
   "mimetype": "text/x-python",
   "name": "python",
   "nbconvert_exporter": "python",
   "pygments_lexer": "ipython2",
   "version": "2.7.6"
  }
 },
 "nbformat": 4,
 "nbformat_minor": 0
}
